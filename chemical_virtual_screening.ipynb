{
 "cells": [
  {
   "cell_type": "code",
   "execution_count": null,
   "id": "6a6dea5a-3b45-4875-87b6-0a02ccdf8e7b",
   "metadata": {},
   "outputs": [],
   "source": [
    "%matplotlib inline \n",
    "from pathlib import Path\n",
    "\n",
    "import pandas as pd\n",
    "import matplotlib.pyplot as plt\n",
    "from rdkit import Chem, DataStructs\n",
    "from rdkit.Chem import (\n",
    "    PandasTools,\n",
    "    Draw,\n",
    "    Descriptors,\n",
    "    MACCSkeys,\n",
    "    rdFingerprintGenerator,\n",
    ")"
   ]
  },
  {
   "cell_type": "code",
   "execution_count": null,
   "id": "07412e01-2c7a-465b-a640-3ef9f585bad1",
   "metadata": {},
   "outputs": [],
   "source": [
    "HERE = Path(_dh[-1])\n",
    "DATA = HERE / \"data\""
   ]
  },
  {
   "cell_type": "code",
   "execution_count": null,
   "id": "3a16c380-053e-48e2-a6b0-9b3e5d10466d",
   "metadata": {},
   "outputs": [],
   "source": [
    "molecule_dataset = pd.read_csv(\n",
    "    \"data/EGFR_compounds_lipinski.csv\",\n",
    "    usecols=[\"molecule_chembl_id\", \"smiles\", \"pIC50\"],\n",
    ")\n",
    "print(f\"Number of molecules in dataset: {len(molecule_dataset)}\")\n",
    "molecule_dataset.head(5)"
   ]
  },
  {
   "cell_type": "code",
   "execution_count": null,
   "id": "9d0bab0f-47db-4ff7-9722-e8604574ec63",
   "metadata": {},
   "outputs": [],
   "source": [
    "query = Chem.MolFromSmiles(\"COC1=C(OCCCN2CCOCC2)C=C2C(NC3=CC(Cl)=C(F)C=C3)=NC=NC2=C1\")\n",
    "query"
   ]
  },
  {
   "cell_type": "code",
   "execution_count": null,
   "id": "a7ce41a0-56d3-410d-9459-2605d78ce735",
   "metadata": {},
   "outputs": [],
   "source": [
    "maccs_fp_query = MACCSkeys.GenMACCSKeys(query)\n",
    "circular_fp_query = rdFingerprintGenerator.GetCountFPs([query])[0]"
   ]
  },
  {
   "cell_type": "code",
   "execution_count": null,
   "id": "fbf97aa5-48bd-40d8-83bf-c8222d87e91e",
   "metadata": {},
   "outputs": [],
   "source": [
    "PandasTools.AddMoleculeColumnToFrame(molecule_dataset, \"smiles\")\n",
    "circular_fp_list = rdFingerprintGenerator.GetCountFPs(molecule_dataset[\"ROMol\"].tolist())\n",
    "maccs_fp_list = molecule_dataset[\"ROMol\"].apply(MACCSkeys.GenMACCSKeys).tolist()"
   ]
  },
  {
   "cell_type": "code",
   "execution_count": null,
   "id": "6f6b2045-e834-4106-bc88-91c9101cb58c",
   "metadata": {},
   "outputs": [],
   "source": [
    "molecule_dataset[\"tanimoto_maccs\"] = DataStructs.BulkTanimotoSimilarity(\n",
    "    maccs_fp_query, maccs_fp_list\n",
    ")\n",
    "molecule_dataset[\"tanimoto_morgan\"] = DataStructs.BulkTanimotoSimilarity(\n",
    "    circular_fp_query, circular_fp_list\n",
    ")"
   ]
  },
  {
   "cell_type": "code",
   "execution_count": null,
   "id": "cc8947aa-afd9-40c4-95f8-3dbea606ad4c",
   "metadata": {},
   "outputs": [],
   "source": [
    "molecule_dataset[\"dice_maccs\"] = DataStructs.BulkDiceSimilarity(maccs_fp_query, maccs_fp_list)\n",
    "molecule_dataset[\"dice_morgan\"] = DataStructs.BulkDiceSimilarity(\n",
    "    circular_fp_query, circular_fp_list\n",
    ")"
   ]
  },
  {
   "cell_type": "code",
   "execution_count": null,
   "id": "4d8d98a3-682a-425a-8e95-e006f22db12c",
   "metadata": {},
   "outputs": [],
   "source": [
    "# NBVAL_CHECK_OUTPUT\n",
    "molecule_dataset[\n",
    "    [\"smiles\", \"tanimoto_maccs\", \"tanimoto_morgan\", \"dice_maccs\", \"dice_morgan\"]\n",
    "].head(5)"
   ]
  },
  {
   "cell_type": "code",
   "execution_count": null,
   "id": "1d935448-a852-4734-8280-e723e942e5e5",
   "metadata": {},
   "outputs": [],
   "source": [
    "molecule_dataset.head(3)"
   ]
  },
  {
   "cell_type": "code",
   "execution_count": null,
   "id": "d4c23386-02c6-4611-8785-57d621b02517",
   "metadata": {},
   "outputs": [],
   "source": [
    "fig, axes = plt.subplots(figsize=(10, 6), nrows=2, ncols=2)\n",
    "molecule_dataset.hist([\"tanimoto_maccs\"], ax=axes[0, 0])\n",
    "molecule_dataset.hist([\"tanimoto_morgan\"], ax=axes[0, 1])\n",
    "molecule_dataset.hist([\"dice_maccs\"], ax=axes[1, 0])\n",
    "molecule_dataset.hist([\"dice_morgan\"], ax=axes[1, 1])\n",
    "axes[1, 0].set_xlabel(\"similarity value\")\n",
    "axes[1, 0].set_ylabel(\"# molecules\")\n",
    "fig;"
   ]
  },
  {
   "cell_type": "code",
   "execution_count": null,
   "id": "89de225b-f09f-4345-974a-6f47e8d33d5b",
   "metadata": {},
   "outputs": [],
   "source": [
    "molecule_dataset.sort_values([\"tanimoto_morgan\"], ascending=False).head(3)"
   ]
  },
  {
   "cell_type": "code",
   "execution_count": null,
   "id": "b0175a61-e202-4e79-860d-965c0f62c7a3",
   "metadata": {},
   "outputs": [],
   "source": [
    "top_n_molecules = 10\n",
    "top_molecules = molecule_dataset.sort_values([\"tanimoto_morgan\"], ascending=False).reset_index()\n",
    "top_molecules = top_molecules[:top_n_molecules]\n",
    "legends = [\n",
    "    f\"#{index+1} {molecule['molecule_chembl_id']}, pIC50={molecule['pIC50']:.2f}, Tani={molecule['tanimoto_morgan']:.2f}\"\n",
    "    for index, molecule in top_molecules.iterrows()\n",
    "]\n",
    "Chem.Draw.MolsToGridImage(\n",
    "    mols=[query] + top_molecules[\"ROMol\"].tolist(),\n",
    "    legends=([\"Gefitinib\"] + legends),\n",
    "    molsPerRow=3,\n",
    "    subImgSize=(450, 350),\n",
    ")"
   ]
  },
  {
   "cell_type": "code",
   "execution_count": null,
   "id": "db183c96-67cc-4daf-82b8-a5ee868a8781",
   "metadata": {},
   "outputs": [],
   "source": [
    "molecule_dataset.head(3)"
   ]
  }
 ],
 "metadata": {
  "kernelspec": {
   "display_name": "Python 3 (ipykernel)",
   "language": "python",
   "name": "python3"
  },
  "language_info": {
   "codemirror_mode": {
    "name": "ipython",
    "version": 3
   },
   "file_extension": ".py",
   "mimetype": "text/x-python",
   "name": "python",
   "nbconvert_exporter": "python",
   "pygments_lexer": "ipython3",
   "version": "3.12.4"
  }
 },
 "nbformat": 4,
 "nbformat_minor": 5
}
