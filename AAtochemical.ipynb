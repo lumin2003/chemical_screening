{
 "cells": [
  {
   "cell_type": "code",
   "execution_count": null,
   "id": "8924c380-8d35-4667-be4f-04e9f6c04a83",
   "metadata": {},
   "outputs": [],
   "source": [
    "from rdkit import rdBase, Chem\n",
    "from rdkit.Chem import AllChem, Draw\n",
    "from rdkit.Chem.Draw import IPythonConsole, rdMolDraw2D\n",
    "from IPython.display import SVG\n",
    "%matplotlib inline\n",
    " \n",
    "print(rdBase.rdkitVersion)"
   ]
  },
  {
   "cell_type": "code",
   "execution_count": null,
   "id": "6c43bd4b-3d1c-40bf-ad86-b642950333f7",
   "metadata": {},
   "outputs": [],
   "source": [
    "Glutathione = Chem.MolFromHELM(\"PEPTIDE1{E.C.G}$$$$\")\n",
    "Glutathione"
   ]
  },
  {
   "cell_type": "code",
   "execution_count": null,
   "id": "42c974de-d651-4241-b9bd-657d577a36bb",
   "metadata": {},
   "outputs": [],
   "source": [
    "arg_mol = Chem.MolFromSequence(\"R\")\n",
    "atom_names_list = []\n",
    " \n",
    "for a in arg_mol.GetAtoms():\n",
    "    a_name = a.GetPDBResidueInfo().GetName()\n",
    "    atom_names_list.append(a_name)\n",
    " \n",
    "view = rdMolDraw2D.MolDraw2DSVG(300,300)\n",
    "tm = rdMolDraw2D.PrepareMolForDrawing(arg_mol)\n",
    " \n",
    "option = view.drawOptions()\n",
    "for i, an in enumerate(atom_names_list):\n",
    "    option.atomLabels[i] = an\n",
    " \n",
    "option.padding=0.01\n",
    "option.legendFontSize=20\n",
    "    \n",
    "view.DrawMolecule(tm, legend=\"arginine with atom labels\")\n",
    "view.FinishDrawing()\n",
    " \n",
    "svg = view.GetDrawingText()\n",
    "SVG(svg)"
   ]
  }
 ],
 "metadata": {
  "kernelspec": {
   "display_name": "Python 3 (ipykernel)",
   "language": "python",
   "name": "python3"
  },
  "language_info": {
   "codemirror_mode": {
    "name": "ipython",
    "version": 3
   },
   "file_extension": ".py",
   "mimetype": "text/x-python",
   "name": "python",
   "nbconvert_exporter": "python",
   "pygments_lexer": "ipython3",
   "version": "3.12.4"
  }
 },
 "nbformat": 4,
 "nbformat_minor": 5
}
